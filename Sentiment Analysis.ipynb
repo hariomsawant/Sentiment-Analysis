{
 "cells": [
  {
   "cell_type": "code",
   "execution_count": 1,
   "id": "8ac36e7f-f280-4861-85f0-5c24c569cda1",
   "metadata": {},
   "outputs": [
    {
     "data": {
      "text/html": [
       "<div>\n",
       "<style scoped>\n",
       "    .dataframe tbody tr th:only-of-type {\n",
       "        vertical-align: middle;\n",
       "    }\n",
       "\n",
       "    .dataframe tbody tr th {\n",
       "        vertical-align: top;\n",
       "    }\n",
       "\n",
       "    .dataframe thead th {\n",
       "        text-align: right;\n",
       "    }\n",
       "</style>\n",
       "<table border=\"1\" class=\"dataframe\">\n",
       "  <thead>\n",
       "    <tr style=\"text-align: right;\">\n",
       "      <th></th>\n",
       "      <th>textID</th>\n",
       "      <th>text</th>\n",
       "      <th>sentiment</th>\n",
       "    </tr>\n",
       "  </thead>\n",
       "  <tbody>\n",
       "    <tr>\n",
       "      <th>0</th>\n",
       "      <td>cb774db0d1</td>\n",
       "      <td>I`d have responded, if I were going</td>\n",
       "      <td>neutral</td>\n",
       "    </tr>\n",
       "    <tr>\n",
       "      <th>1</th>\n",
       "      <td>549e992a42</td>\n",
       "      <td>Sooo SAD I will miss you here in San Diego!!!</td>\n",
       "      <td>negative</td>\n",
       "    </tr>\n",
       "    <tr>\n",
       "      <th>2</th>\n",
       "      <td>088c60f138</td>\n",
       "      <td>my boss is bullying me...</td>\n",
       "      <td>negative</td>\n",
       "    </tr>\n",
       "    <tr>\n",
       "      <th>3</th>\n",
       "      <td>9642c003ef</td>\n",
       "      <td>what interview! leave me alone</td>\n",
       "      <td>negative</td>\n",
       "    </tr>\n",
       "    <tr>\n",
       "      <th>4</th>\n",
       "      <td>358bd9e861</td>\n",
       "      <td>Sons of ****, why couldn`t they put them on t...</td>\n",
       "      <td>negative</td>\n",
       "    </tr>\n",
       "    <tr>\n",
       "      <th>...</th>\n",
       "      <td>...</td>\n",
       "      <td>...</td>\n",
       "      <td>...</td>\n",
       "    </tr>\n",
       "    <tr>\n",
       "      <th>27476</th>\n",
       "      <td>4eac33d1c0</td>\n",
       "      <td>wish we could come see u on Denver  husband lo...</td>\n",
       "      <td>negative</td>\n",
       "    </tr>\n",
       "    <tr>\n",
       "      <th>27477</th>\n",
       "      <td>4f4c4fc327</td>\n",
       "      <td>I`ve wondered about rake to.  The client has ...</td>\n",
       "      <td>negative</td>\n",
       "    </tr>\n",
       "    <tr>\n",
       "      <th>27478</th>\n",
       "      <td>f67aae2310</td>\n",
       "      <td>Yay good for both of you. Enjoy the break - yo...</td>\n",
       "      <td>positive</td>\n",
       "    </tr>\n",
       "    <tr>\n",
       "      <th>27479</th>\n",
       "      <td>ed167662a5</td>\n",
       "      <td>But it was worth it  ****.</td>\n",
       "      <td>positive</td>\n",
       "    </tr>\n",
       "    <tr>\n",
       "      <th>27480</th>\n",
       "      <td>6f7127d9d7</td>\n",
       "      <td>All this flirting going on - The ATG smiles. Y...</td>\n",
       "      <td>neutral</td>\n",
       "    </tr>\n",
       "  </tbody>\n",
       "</table>\n",
       "<p>27481 rows × 3 columns</p>\n",
       "</div>"
      ],
      "text/plain": [
       "           textID                                               text sentiment\n",
       "0      cb774db0d1                I`d have responded, if I were going   neutral\n",
       "1      549e992a42      Sooo SAD I will miss you here in San Diego!!!  negative\n",
       "2      088c60f138                          my boss is bullying me...  negative\n",
       "3      9642c003ef                     what interview! leave me alone  negative\n",
       "4      358bd9e861   Sons of ****, why couldn`t they put them on t...  negative\n",
       "...           ...                                                ...       ...\n",
       "27476  4eac33d1c0  wish we could come see u on Denver  husband lo...  negative\n",
       "27477  4f4c4fc327   I`ve wondered about rake to.  The client has ...  negative\n",
       "27478  f67aae2310  Yay good for both of you. Enjoy the break - yo...  positive\n",
       "27479  ed167662a5                         But it was worth it  ****.  positive\n",
       "27480  6f7127d9d7  All this flirting going on - The ATG smiles. Y...   neutral\n",
       "\n",
       "[27481 rows x 3 columns]"
      ]
     },
     "execution_count": 1,
     "metadata": {},
     "output_type": "execute_result"
    }
   ],
   "source": [
    "import pandas as pd\n",
    "df = pd.read_csv('tweets.csv', encoding = 'ISO-8859-1')\n",
    "df"
   ]
  },
  {
   "cell_type": "code",
   "execution_count": 2,
   "id": "75b81f6a-e323-4c1f-8883-497a93b6361a",
   "metadata": {},
   "outputs": [
    {
     "name": "stdout",
     "output_type": "stream",
     "text": [
      "<class 'pandas.core.frame.DataFrame'>\n",
      "RangeIndex: 27481 entries, 0 to 27480\n",
      "Data columns (total 3 columns):\n",
      " #   Column     Non-Null Count  Dtype \n",
      "---  ------     --------------  ----- \n",
      " 0   textID     27481 non-null  object\n",
      " 1   text       27480 non-null  object\n",
      " 2   sentiment  27481 non-null  object\n",
      "dtypes: object(3)\n",
      "memory usage: 644.2+ KB\n"
     ]
    }
   ],
   "source": [
    "df.info()"
   ]
  },
  {
   "cell_type": "code",
   "execution_count": 3,
   "id": "cfd32ab5-416a-4a70-ad55-744a9d4a3d8d",
   "metadata": {},
   "outputs": [
    {
     "data": {
      "text/plain": [
       "textID       0\n",
       "text         1\n",
       "sentiment    0\n",
       "dtype: int64"
      ]
     },
     "execution_count": 3,
     "metadata": {},
     "output_type": "execute_result"
    }
   ],
   "source": [
    "df.isna().sum()"
   ]
  },
  {
   "cell_type": "code",
   "execution_count": 4,
   "id": "595d1f42-c72f-476c-a593-afbdcd8d9207",
   "metadata": {},
   "outputs": [],
   "source": [
    "df['text'] = df['text'].fillna('')"
   ]
  },
  {
   "cell_type": "code",
   "execution_count": 5,
   "id": "749fd8df-d657-43da-b083-4ea394cbe1ed",
   "metadata": {},
   "outputs": [
    {
     "data": {
      "text/plain": [
       "sentiment\n",
       "neutral     11118\n",
       "positive     8582\n",
       "negative     7781\n",
       "Name: count, dtype: int64"
      ]
     },
     "execution_count": 5,
     "metadata": {},
     "output_type": "execute_result"
    }
   ],
   "source": [
    "df['sentiment'].value_counts()"
   ]
  },
  {
   "cell_type": "code",
   "execution_count": 6,
   "id": "e5b21b8e-a768-4846-97b2-d36a4663f2d3",
   "metadata": {},
   "outputs": [],
   "source": [
    "df['sentiment'] = df['sentiment'].map({'positive': 1, 'negative': -1,'neutral': 0})"
   ]
  },
  {
   "cell_type": "code",
   "execution_count": 7,
   "id": "cef3c3a7-5782-43ac-9b0f-a9b9e1cae4a2",
   "metadata": {},
   "outputs": [
    {
     "name": "stdout",
     "output_type": "stream",
     "text": [
      "['i', 'me', 'my', 'myself', 'we', 'our', 'ours', 'ourselves', 'you', \"you're\", \"you've\", \"you'll\", \"you'd\", 'your', 'yours', 'yourself', 'yourselves', 'he', 'him', 'his', 'himself', 'she', \"she's\", 'her', 'hers', 'herself', 'it', \"it's\", 'its', 'itself', 'they', 'them', 'their', 'theirs', 'themselves', 'what', 'which', 'who', 'whom', 'this', 'that', \"that'll\", 'these', 'those', 'am', 'is', 'are', 'was', 'were', 'be', 'been', 'being', 'have', 'has', 'had', 'having', 'do', 'does', 'did', 'doing', 'a', 'an', 'the', 'and', 'but', 'if', 'or', 'because', 'as', 'until', 'while', 'of', 'at', 'by', 'for', 'with', 'about', 'against', 'between', 'into', 'through', 'during', 'before', 'after', 'above', 'below', 'to', 'from', 'up', 'down', 'in', 'out', 'on', 'off', 'over', 'under', 'again', 'further', 'then', 'once', 'here', 'there', 'when', 'where', 'why', 'how', 'all', 'any', 'both', 'each', 'few', 'more', 'most', 'other', 'some', 'such', 'no', 'nor', 'not', 'only', 'own', 'same', 'so', 'than', 'too', 'very', 's', 't', 'can', 'will', 'just', 'don', \"don't\", 'should', \"should've\", 'now', 'd', 'll', 'm', 'o', 're', 've', 'y', 'ain', 'aren', \"aren't\", 'couldn', \"couldn't\", 'didn', \"didn't\", 'doesn', \"doesn't\", 'hadn', \"hadn't\", 'hasn', \"hasn't\", 'haven', \"haven't\", 'isn', \"isn't\", 'ma', 'mightn', \"mightn't\", 'mustn', \"mustn't\", 'needn', \"needn't\", 'shan', \"shan't\", 'shouldn', \"shouldn't\", 'wasn', \"wasn't\", 'weren', \"weren't\", 'won', \"won't\", 'wouldn', \"wouldn't\"]\n"
     ]
    }
   ],
   "source": [
    "from nltk.corpus import stopwords\n",
    "print(stopwords.words('english'))"
   ]
  },
  {
   "cell_type": "code",
   "execution_count": 8,
   "id": "51d4cd85-eaf0-4f27-a80f-24dd44b3516d",
   "metadata": {},
   "outputs": [],
   "source": [
    "from nltk.stem.porter import PorterStemmer\n",
    "port_stem = PorterStemmer()"
   ]
  },
  {
   "cell_type": "code",
   "execution_count": 9,
   "id": "a497c454-1cd4-4052-80b6-b1b1424a6d4a",
   "metadata": {},
   "outputs": [],
   "source": [
    "import re\n",
    "def stemming(content):\n",
    "    stemmed_content = re.sub('[^a-zA-Z]', ' ', content)\n",
    "    stemmed_content = stemmed_content.lower().split()\n",
    "    stemmed_content = [port_stem.stem(word) for word in stemmed_content if not word in stopwords.words('english')]\n",
    "    stemmed_content = ' '.join(stemmed_content)\n",
    "    return stemmed_content"
   ]
  },
  {
   "cell_type": "code",
   "execution_count": 10,
   "id": "9443625e-8b2e-4598-80bf-88b41d99510d",
   "metadata": {},
   "outputs": [],
   "source": [
    "df['stemmed_content'] = df['text'].apply(stemming)"
   ]
  },
  {
   "cell_type": "code",
   "execution_count": 11,
   "id": "ebb5678b-a243-4947-a4ef-28127fbdb153",
   "metadata": {},
   "outputs": [],
   "source": [
    "X = df['stemmed_content'].values\n",
    "Y = df['sentiment'].values"
   ]
  },
  {
   "cell_type": "code",
   "execution_count": 12,
   "id": "adcca285-52c4-4ccb-9c86-a9cedf07d275",
   "metadata": {},
   "outputs": [],
   "source": [
    "from sklearn.model_selection import train_test_split\n",
    "X_train, X_test, Y_train, Y_test = train_test_split(X, Y, test_size=0.2, stratify = Y, random_state = 2)"
   ]
  },
  {
   "cell_type": "code",
   "execution_count": 13,
   "id": "828bdad9-c941-4aa7-a799-560d37ba2537",
   "metadata": {},
   "outputs": [],
   "source": [
    "from sklearn.feature_extraction.text import TfidfVectorizer \n",
    "vectorizer = TfidfVectorizer()\n",
    "X_train = vectorizer.fit_transform(X_train)\n",
    "X_test = vectorizer.transform(X_test)"
   ]
  },
  {
   "cell_type": "code",
   "execution_count": 14,
   "id": "2c3e20fd-8521-4770-bd4b-bfd6acb11e16",
   "metadata": {},
   "outputs": [],
   "source": [
    "from sklearn.neighbors import KNeighborsClassifier\n",
    "knn = KNeighborsClassifier(n_neighbors=5)\n",
    "knn.fit(X_train, Y_train)\n",
    "Y_pred_knn = knn.predict(X_test)"
   ]
  },
  {
   "cell_type": "code",
   "execution_count": 15,
   "id": "1cb2efcc-16ff-4ae9-8085-26703b523eb0",
   "metadata": {},
   "outputs": [
    {
     "name": "stdout",
     "output_type": "stream",
     "text": [
      "Confusion Matrix:\n",
      " [[ 148 1400    8]\n",
      " [  50 2118   56]\n",
      " [  19 1411  287]]\n",
      "Classification Report:\n",
      "               precision    recall  f1-score   support\n",
      "\n",
      "          -1       0.68      0.10      0.17      1556\n",
      "           0       0.43      0.95      0.59      2224\n",
      "           1       0.82      0.17      0.28      1717\n",
      "\n",
      "    accuracy                           0.46      5497\n",
      "   macro avg       0.64      0.40      0.35      5497\n",
      "weighted avg       0.62      0.46      0.37      5497\n",
      "\n",
      "Accuracy Score: 0.46443514644351463\n",
      "Kappa Score: 0.11637855581182954\n"
     ]
    }
   ],
   "source": [
    "from sklearn.metrics import confusion_matrix, classification_report, accuracy_score, cohen_kappa_score\n",
    "print('Confusion Matrix:\\n', confusion_matrix(Y_test, Y_pred_knn))\n",
    "print('Classification Report:\\n', classification_report(Y_test, Y_pred_knn))\n",
    "print('Accuracy Score:', accuracy_score(Y_test, Y_pred_knn))\n",
    "print('Kappa Score:', cohen_kappa_score(Y_test, Y_pred_knn))"
   ]
  },
  {
   "cell_type": "code",
   "execution_count": 16,
   "id": "93c204d3-ba7b-4bf6-9302-ea4d1a21b5e9",
   "metadata": {},
   "outputs": [
    {
     "name": "stdout",
     "output_type": "stream",
     "text": [
      "0:\tlearn: 1.0771087\ttotal: 574ms\tremaining: 56.8s\n",
      "1:\tlearn: 1.0603593\ttotal: 959ms\tremaining: 47s\n",
      "2:\tlearn: 1.0455266\ttotal: 1.33s\tremaining: 43.1s\n",
      "3:\tlearn: 1.0331364\ttotal: 1.71s\tremaining: 41s\n",
      "4:\tlearn: 1.0214163\ttotal: 2.1s\tremaining: 40s\n",
      "5:\tlearn: 1.0124564\ttotal: 2.49s\tremaining: 39s\n",
      "6:\tlearn: 1.0052464\ttotal: 2.87s\tremaining: 38.1s\n",
      "7:\tlearn: 0.9979643\ttotal: 3.27s\tremaining: 37.6s\n",
      "8:\tlearn: 0.9908185\ttotal: 3.67s\tremaining: 37.2s\n",
      "9:\tlearn: 0.9844081\ttotal: 4.13s\tremaining: 37.2s\n",
      "10:\tlearn: 0.9783211\ttotal: 4.58s\tremaining: 37.1s\n",
      "11:\tlearn: 0.9728791\ttotal: 5.04s\tremaining: 36.9s\n",
      "12:\tlearn: 0.9684238\ttotal: 5.47s\tremaining: 36.6s\n",
      "13:\tlearn: 0.9636586\ttotal: 5.91s\tremaining: 36.3s\n",
      "14:\tlearn: 0.9585455\ttotal: 6.39s\tremaining: 36.2s\n",
      "15:\tlearn: 0.9547767\ttotal: 6.8s\tremaining: 35.7s\n",
      "16:\tlearn: 0.9515949\ttotal: 7.22s\tremaining: 35.3s\n",
      "17:\tlearn: 0.9476489\ttotal: 7.65s\tremaining: 34.9s\n",
      "18:\tlearn: 0.9441105\ttotal: 8.09s\tremaining: 34.5s\n",
      "19:\tlearn: 0.9406199\ttotal: 8.55s\tremaining: 34.2s\n",
      "20:\tlearn: 0.9371641\ttotal: 8.99s\tremaining: 33.8s\n",
      "21:\tlearn: 0.9339096\ttotal: 9.39s\tremaining: 33.3s\n",
      "22:\tlearn: 0.9310606\ttotal: 9.75s\tremaining: 32.6s\n",
      "23:\tlearn: 0.9278774\ttotal: 10.1s\tremaining: 32s\n",
      "24:\tlearn: 0.9251444\ttotal: 10.5s\tremaining: 31.4s\n",
      "25:\tlearn: 0.9228790\ttotal: 10.8s\tremaining: 30.9s\n",
      "26:\tlearn: 0.9202880\ttotal: 11.2s\tremaining: 30.3s\n",
      "27:\tlearn: 0.9184824\ttotal: 11.6s\tremaining: 29.8s\n",
      "28:\tlearn: 0.9161223\ttotal: 11.9s\tremaining: 29.2s\n",
      "29:\tlearn: 0.9139425\ttotal: 12.3s\tremaining: 28.7s\n",
      "30:\tlearn: 0.9121453\ttotal: 12.7s\tremaining: 28.2s\n",
      "31:\tlearn: 0.9095588\ttotal: 13s\tremaining: 27.7s\n",
      "32:\tlearn: 0.9074872\ttotal: 13.4s\tremaining: 27.2s\n",
      "33:\tlearn: 0.9055845\ttotal: 13.8s\tremaining: 26.7s\n",
      "34:\tlearn: 0.9036522\ttotal: 14.1s\tremaining: 26.2s\n",
      "35:\tlearn: 0.9019095\ttotal: 14.5s\tremaining: 25.8s\n",
      "36:\tlearn: 0.9003198\ttotal: 14.9s\tremaining: 25.3s\n",
      "37:\tlearn: 0.8985045\ttotal: 15.2s\tremaining: 24.8s\n",
      "38:\tlearn: 0.8970577\ttotal: 15.6s\tremaining: 24.4s\n",
      "39:\tlearn: 0.8956580\ttotal: 15.9s\tremaining: 23.9s\n",
      "40:\tlearn: 0.8939969\ttotal: 16.4s\tremaining: 23.5s\n",
      "41:\tlearn: 0.8923156\ttotal: 16.7s\tremaining: 23.1s\n",
      "42:\tlearn: 0.8907574\ttotal: 17.1s\tremaining: 22.7s\n",
      "43:\tlearn: 0.8892876\ttotal: 17.5s\tremaining: 22.2s\n",
      "44:\tlearn: 0.8879286\ttotal: 17.8s\tremaining: 21.8s\n",
      "45:\tlearn: 0.8866663\ttotal: 18.2s\tremaining: 21.4s\n",
      "46:\tlearn: 0.8853854\ttotal: 18.5s\tremaining: 20.9s\n",
      "47:\tlearn: 0.8843170\ttotal: 18.9s\tremaining: 20.5s\n",
      "48:\tlearn: 0.8831131\ttotal: 19.3s\tremaining: 20.1s\n",
      "49:\tlearn: 0.8818471\ttotal: 19.7s\tremaining: 19.7s\n",
      "50:\tlearn: 0.8806011\ttotal: 20.1s\tremaining: 19.3s\n",
      "51:\tlearn: 0.8790802\ttotal: 20.6s\tremaining: 19s\n",
      "52:\tlearn: 0.8777029\ttotal: 21s\tremaining: 18.6s\n",
      "53:\tlearn: 0.8766389\ttotal: 21.4s\tremaining: 18.2s\n",
      "54:\tlearn: 0.8755887\ttotal: 21.8s\tremaining: 17.9s\n",
      "55:\tlearn: 0.8744212\ttotal: 22.3s\tremaining: 17.5s\n",
      "56:\tlearn: 0.8734571\ttotal: 22.7s\tremaining: 17.1s\n",
      "57:\tlearn: 0.8724667\ttotal: 23.1s\tremaining: 16.8s\n",
      "58:\tlearn: 0.8712422\ttotal: 23.6s\tremaining: 16.4s\n",
      "59:\tlearn: 0.8701598\ttotal: 24s\tremaining: 16s\n",
      "60:\tlearn: 0.8694279\ttotal: 24.4s\tremaining: 15.6s\n",
      "61:\tlearn: 0.8682889\ttotal: 24.8s\tremaining: 15.2s\n",
      "62:\tlearn: 0.8671540\ttotal: 25.3s\tremaining: 14.8s\n",
      "63:\tlearn: 0.8660886\ttotal: 25.7s\tremaining: 14.4s\n",
      "64:\tlearn: 0.8651398\ttotal: 26s\tremaining: 14s\n",
      "65:\tlearn: 0.8643107\ttotal: 26.4s\tremaining: 13.6s\n",
      "66:\tlearn: 0.8632859\ttotal: 26.8s\tremaining: 13.2s\n",
      "67:\tlearn: 0.8621306\ttotal: 27.2s\tremaining: 12.8s\n",
      "68:\tlearn: 0.8610503\ttotal: 27.5s\tremaining: 12.4s\n",
      "69:\tlearn: 0.8602387\ttotal: 27.9s\tremaining: 12s\n",
      "70:\tlearn: 0.8595043\ttotal: 28.3s\tremaining: 11.5s\n",
      "71:\tlearn: 0.8588340\ttotal: 28.6s\tremaining: 11.1s\n",
      "72:\tlearn: 0.8579715\ttotal: 29s\tremaining: 10.7s\n",
      "73:\tlearn: 0.8568280\ttotal: 29.4s\tremaining: 10.3s\n",
      "74:\tlearn: 0.8560161\ttotal: 29.7s\tremaining: 9.91s\n",
      "75:\tlearn: 0.8551947\ttotal: 30.1s\tremaining: 9.51s\n",
      "76:\tlearn: 0.8542328\ttotal: 30.5s\tremaining: 9.1s\n",
      "77:\tlearn: 0.8534604\ttotal: 30.8s\tremaining: 8.7s\n",
      "78:\tlearn: 0.8527136\ttotal: 31.2s\tremaining: 8.3s\n",
      "79:\tlearn: 0.8517999\ttotal: 31.6s\tremaining: 7.89s\n",
      "80:\tlearn: 0.8512473\ttotal: 31.9s\tremaining: 7.49s\n",
      "81:\tlearn: 0.8503693\ttotal: 32.4s\tremaining: 7.1s\n",
      "82:\tlearn: 0.8493158\ttotal: 32.7s\tremaining: 6.7s\n",
      "83:\tlearn: 0.8483587\ttotal: 33.1s\tremaining: 6.3s\n",
      "84:\tlearn: 0.8474265\ttotal: 33.5s\tremaining: 5.9s\n",
      "85:\tlearn: 0.8467820\ttotal: 33.8s\tremaining: 5.5s\n",
      "86:\tlearn: 0.8458237\ttotal: 34.2s\tremaining: 5.11s\n",
      "87:\tlearn: 0.8448184\ttotal: 34.6s\tremaining: 4.71s\n",
      "88:\tlearn: 0.8440429\ttotal: 34.9s\tremaining: 4.32s\n",
      "89:\tlearn: 0.8433242\ttotal: 35.3s\tremaining: 3.92s\n",
      "90:\tlearn: 0.8424781\ttotal: 35.7s\tremaining: 3.53s\n",
      "91:\tlearn: 0.8416629\ttotal: 36.1s\tremaining: 3.14s\n",
      "92:\tlearn: 0.8409698\ttotal: 36.5s\tremaining: 2.75s\n",
      "93:\tlearn: 0.8402833\ttotal: 37s\tremaining: 2.36s\n",
      "94:\tlearn: 0.8395082\ttotal: 37.4s\tremaining: 1.97s\n",
      "95:\tlearn: 0.8388926\ttotal: 37.8s\tremaining: 1.57s\n",
      "96:\tlearn: 0.8382655\ttotal: 38.2s\tremaining: 1.18s\n",
      "97:\tlearn: 0.8377057\ttotal: 38.7s\tremaining: 789ms\n",
      "98:\tlearn: 0.8369968\ttotal: 39.1s\tremaining: 395ms\n",
      "99:\tlearn: 0.8362804\ttotal: 39.5s\tremaining: 0us\n"
     ]
    }
   ],
   "source": [
    "from catboost import CatBoostClassifier\n",
    "\n",
    "model = CatBoostClassifier(iterations=100, \n",
    "                           depth=6,          \n",
    "                           learning_rate=0.1, \n",
    "                           loss_function='MultiClass', \n",
    "                           random_state=42)\n",
    "\n",
    "model.fit(X_train, Y_train, cat_features=[])\n",
    "Y_pred_cat = model.predict(X_test)"
   ]
  },
  {
   "cell_type": "code",
   "execution_count": 17,
   "id": "db382d94-f268-46c5-88c7-5ed9fcf334ce",
   "metadata": {},
   "outputs": [
    {
     "name": "stdout",
     "output_type": "stream",
     "text": [
      "Confusion Matrix:\n",
      " [[ 688  782   86]\n",
      " [ 126 1882  216]\n",
      " [  39  578 1100]]\n",
      "Classification Report:\n",
      "               precision    recall  f1-score   support\n",
      "\n",
      "          -1       0.81      0.44      0.57      1556\n",
      "           0       0.58      0.85      0.69      2224\n",
      "           1       0.78      0.64      0.71      1717\n",
      "\n",
      "    accuracy                           0.67      5497\n",
      "   macro avg       0.72      0.64      0.66      5497\n",
      "weighted avg       0.71      0.67      0.66      5497\n",
      "\n",
      "Accuracy Score: 0.6676368928506458\n",
      "Kappa Score: 0.47888837756201275\n"
     ]
    }
   ],
   "source": [
    "print('Confusion Matrix:\\n', confusion_matrix(Y_test, Y_pred_cat))\n",
    "print('Classification Report:\\n', classification_report(Y_test, Y_pred_cat))\n",
    "print('Accuracy Score:', accuracy_score(Y_test, Y_pred_cat))\n",
    "print('Kappa Score:', cohen_kappa_score(Y_test, Y_pred_cat))"
   ]
  },
  {
   "cell_type": "code",
   "execution_count": 18,
   "id": "ce7767d0-5607-4da0-82b3-93eb5a1f588d",
   "metadata": {},
   "outputs": [],
   "source": [
    "from sklearn.tree import DecisionTreeClassifier\n",
    "from sklearn.ensemble import AdaBoostClassifier\n",
    "\n",
    "base_learner = DecisionTreeClassifier(max_depth=1) \n",
    "ada = AdaBoostClassifier(estimator=base_learner, n_estimators=50, random_state=40)\n",
    "ada.fit(X_train, Y_train)\n",
    "Y_pred_ada = ada.predict(X_test)"
   ]
  },
  {
   "cell_type": "code",
   "execution_count": 19,
   "id": "4d54d7a6-0090-400d-81bf-6e2e9ecc3e65",
   "metadata": {},
   "outputs": [
    {
     "name": "stdout",
     "output_type": "stream",
     "text": [
      "Confusion Matrix:\n",
      " [[ 691  748  117]\n",
      " [ 126 1816  282]\n",
      " [  38  446 1233]]\n",
      "Classification Report:\n",
      "               precision    recall  f1-score   support\n",
      "\n",
      "          -1       0.81      0.44      0.57      1556\n",
      "           0       0.60      0.82      0.69      2224\n",
      "           1       0.76      0.72      0.74      1717\n",
      "\n",
      "    accuracy                           0.68      5497\n",
      "   macro avg       0.72      0.66      0.67      5497\n",
      "weighted avg       0.71      0.68      0.67      5497\n",
      "\n",
      "Accuracy Score: 0.680371111515372\n",
      "Kappa Score: 0.5019026835400997\n"
     ]
    }
   ],
   "source": [
    "print('Confusion Matrix:\\n', confusion_matrix(Y_test, Y_pred_ada))\n",
    "print('Classification Report:\\n', classification_report(Y_test, Y_pred_ada))\n",
    "print('Accuracy Score:', accuracy_score(Y_test, Y_pred_ada))\n",
    "print('Kappa Score:', cohen_kappa_score(Y_test, Y_pred_ada))"
   ]
  },
  {
   "cell_type": "code",
   "execution_count": 20,
   "id": "ac103135-5bf3-4b44-a167-32dd8c48bdb5",
   "metadata": {},
   "outputs": [
    {
     "name": "stderr",
     "output_type": "stream",
     "text": [
      "C:\\Users\\USER\\anaconda3\\Lib\\site-packages\\sklearn\\model_selection\\_search.py:905: FutureWarning: Parameter 'base_estimator' of AdaBoostClassifier is deprecated in favor of 'estimator'. See AdaBoostClassifier's docstring for more details.\n",
      "  clone(base_estimator).set_params(**self.best_params_)\n"
     ]
    },
    {
     "name": "stdout",
     "output_type": "stream",
     "text": [
      "Best parameters found:  {'base_estimator__max_depth': 3, 'learning_rate': 0.6469222423714195, 'n_estimators': 50}\n",
      "Best score found:  0.6803584425036391\n"
     ]
    }
   ],
   "source": [
    "from sklearn.model_selection import RandomizedSearchCV\n",
    "from scipy.stats import uniform, randint\n",
    "\n",
    "param_dist = {'n_estimators': [50, 100, 200],  \n",
    "              'learning_rate': uniform(0.01, 1.0),  \n",
    "              'base_estimator__max_depth': randint(1, 4) }\n",
    "\n",
    "ada = AdaBoostClassifier(estimator=DecisionTreeClassifier())\n",
    "\n",
    "random_search = RandomizedSearchCV( ada,\n",
    "                                    param_distributions=param_dist,\n",
    "                                    n_iter=30,  \n",
    "                                    cv=3,        \n",
    "                                    n_jobs=-1,   \n",
    "                                    random_state=40 )\n",
    "\n",
    "random_search.fit(X_train, Y_train)\n",
    "\n",
    "print(\"Best parameters found: \", random_search.best_params_)\n",
    "print(\"Best score found: \", random_search.best_score_)"
   ]
  },
  {
   "cell_type": "code",
   "execution_count": 21,
   "id": "df3f6484-7425-4ff8-b968-5de0e686dd5a",
   "metadata": {},
   "outputs": [],
   "source": [
    "best_model = random_search.best_estimator_\n",
    "best_model.fit(X_train, Y_train)\n",
    "Y_pred = best_model.predict(X_test)"
   ]
  },
  {
   "cell_type": "code",
   "execution_count": 22,
   "id": "3f3521d3-8a60-400c-818d-347a2f703d8b",
   "metadata": {},
   "outputs": [
    {
     "name": "stdout",
     "output_type": "stream",
     "text": [
      "Confusion Matrix:\n",
      " [[ 691  748  117]\n",
      " [ 126 1816  282]\n",
      " [  38  446 1233]]\n",
      "Classification Report:\n",
      "               precision    recall  f1-score   support\n",
      "\n",
      "          -1       0.81      0.44      0.57      1556\n",
      "           0       0.60      0.82      0.69      2224\n",
      "           1       0.76      0.72      0.74      1717\n",
      "\n",
      "    accuracy                           0.68      5497\n",
      "   macro avg       0.72      0.66      0.67      5497\n",
      "weighted avg       0.71      0.68      0.67      5497\n",
      "\n",
      "Accuracy Score: 0.680371111515372\n",
      "Kappa Score: 0.5019026835400997\n"
     ]
    }
   ],
   "source": [
    "print('Confusion Matrix:\\n', confusion_matrix(Y_test, Y_pred_ada))\n",
    "print('Classification Report:\\n', classification_report(Y_test, Y_pred_ada))\n",
    "print('Accuracy Score:', accuracy_score(Y_test, Y_pred_ada))\n",
    "print('Kappa Score:', cohen_kappa_score(Y_test, Y_pred_ada))"
   ]
  },
  {
   "cell_type": "code",
   "execution_count": 23,
   "id": "78896c8c-c29d-4919-a38e-caf9bf22af28",
   "metadata": {},
   "outputs": [],
   "source": [
    "import pickle\n",
    "with open('model.pkl', 'wb') as file:\n",
    "    pickle.dump(best_model, file)"
   ]
  }
 ],
 "metadata": {
  "kernelspec": {
   "display_name": "Python 3 (ipykernel)",
   "language": "python",
   "name": "python3"
  },
  "language_info": {
   "codemirror_mode": {
    "name": "ipython",
    "version": 3
   },
   "file_extension": ".py",
   "mimetype": "text/x-python",
   "name": "python",
   "nbconvert_exporter": "python",
   "pygments_lexer": "ipython3",
   "version": "3.11.7"
  }
 },
 "nbformat": 4,
 "nbformat_minor": 5
}
